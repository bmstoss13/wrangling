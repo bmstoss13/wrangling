{
 "cells": [
  {
   "cell_type": "markdown",
   "id": "13ad028b-72b7-43ed-aa78-96fd4e518040",
   "metadata": {
    "id": "13ad028b-72b7-43ed-aa78-96fd4e518040"
   },
   "source": [
    "# Assignment: Data Wrangling\n",
    "### `! git clone https://github.com/ds4e/wrangling`\n",
    "### Do Q1 and Q2, and either Q3 or Q4, for a total of 3 questions."
   ]
  },
  {
   "cell_type": "markdown",
   "id": "da879ea7-8aac-48a3-b6c2-daea56d2e072",
   "metadata": {
    "id": "da879ea7-8aac-48a3-b6c2-daea56d2e072"
   },
   "source": [
    "**Q1.** This question provides some practice cleaning variables which have common problems.\n",
    "1. Numeric variable: For `./data/airbnb_hw.csv`, clean the `Price` variable as well as you can, and explain the choices you make. How many missing values do you end up with? (Hint: What happens to the formatting when a price goes over 999 dollars, say from 675 to 1,112?) \n",
    "\n",
    "2. Categorical variable: For the Minnesota police use of for data, `./data/mn_police_use_of_force.csv`, clean the `subject_injury` variable, handling the NA's; this gives a value `Yes` when a person was injured by police, and `No` when no injury occurred. What proportion of the values are missing? Is this a concern? Cross-tabulate your cleaned `subject_injury` variable with the `force_type` variable. Are there any patterns regarding when the data are missing?                                                                                                                                                                                                                            \n",
    "3. Dummy variable: For the pretrial data covered in the lecture, clean the `WhetherDefendantWasReleasedPretrial` variable as well as you can, and, in particular, replace missing values with `np.nan`.\n",
    "4. Missing values, not at random: For the pretrial data covered in the lecture, clean the `ImposedSentenceAllChargeInContactEvent` variable as well as you can, and explain the choices you make. (Hint: Look at the `SentenceTypeAllChargesAtConvictionInContactEvent` variable.)"
   ]
  },
  {
   "cell_type": "markdown",
   "id": "d728b5f4-5af9-4cac-b108-963c8795360a",
   "metadata": {},
   "source": [
    "1. In order to clean the `Price` variable, I chose to write a short script that took in the csv file, particularly at the `Price` header. This script then removed dollar signs and commas and finally converted the values to floats. When I calculated the missing values, I got no missing values. However, when I took out the option to clean the commas, I got an error stating a value (one with a comma) could not be read."
   ]
  },
  {
   "cell_type": "code",
   "execution_count": 1,
   "id": "058abd70-4d51-48e2-8be3-0c46a0626903",
   "metadata": {},
   "outputs": [
    {
     "name": "stdout",
     "output_type": "stream",
     "text": [
      "Missing values in Price: 0\n"
     ]
    }
   ],
   "source": [
    "import pandas as pd\n",
    "\n",
    "# Load Airbnb dataset\n",
    "df_airbnb = pd.read_csv(r\"C:\\Users\\Brian\\wrangling\\assignment\\data\\airbnb_hw.csv\")\n",
    "\n",
    "# Remove '$' sign and commas, then convert to float\n",
    "df_airbnb['Price'] = df_airbnb['Price'].replace('[\\$,]', '', regex=True).astype(float)\n",
    "\n",
    "# Count missing values\n",
    "missing_price = df_airbnb['Price'].isna().sum()\n",
    "\n",
    "print(f\"Missing values in Price: {missing_price}\")"
   ]
  },
  {
   "cell_type": "markdown",
   "id": "633f6721-49e5-435a-9c11-10135f2aff0d",
   "metadata": {},
   "source": [
    "2. When running my script, the proportion of the values missing in the `subject_injury` was 76.19%, which is a HUGE proportion. This is a concern as we don't even know if three quarters of the police interaction involved injury. When applying cross tabulation, the only pattern I can recognize is that most of the time (other than with irritants) when there is a high number if missing values, the proportion of `Yes` to `No` is higher by a significant margin. For instance, under `Bodily Force`, there were 7051 missing values. Of the values that were there, 1286 were `Yes` and 1093 were `No`."
   ]
  },
  {
   "cell_type": "code",
   "execution_count": 2,
   "id": "1ff4b741-0ec4-42c7-8021-ab455922c7c4",
   "metadata": {},
   "outputs": [
    {
     "name": "stdout",
     "output_type": "stream",
     "text": [
      "Proportion of missing subject_injury: 76.19%\n",
      "force_type      Baton  Bodily Force  Chemical Irritant  Firearm  \\\n",
      "subject_injury                                                    \n",
      "No                  0          1093                131        2   \n",
      "Yes                 2          1286                 41        0   \n",
      "NaN                 2          7051               1421        0   \n",
      "\n",
      "force_type      Gun Point Display  Improvised Weapon  Less Lethal  \\\n",
      "subject_injury                                                      \n",
      "No                             33                 34            0   \n",
      "Yes                            44                 40            0   \n",
      "NaN                            27                 74           87   \n",
      "\n",
      "force_type      Less Lethal Projectile  Maximal Restraint Technique  \\\n",
      "subject_injury                                                        \n",
      "No                                   1                            0   \n",
      "Yes                                  2                            0   \n",
      "NaN                                  0                          170   \n",
      "\n",
      "force_type      Police K9 Bite  Taser  \n",
      "subject_injury                         \n",
      "No                           2    150  \n",
      "Yes                         44    172  \n",
      "NaN                         31    985  \n"
     ]
    }
   ],
   "source": [
    "# Load Minnesota police dataset\n",
    "df_police = pd.read_csv(r\"C:\\Users\\Brian\\wrangling\\assignment\\data\\mn_police_use_of_force.csv\")\n",
    "\n",
    "# Standardize injury column: Yes = injury, No = no injury\n",
    "df_police['subject_injury'] = df_police['subject_injury'].str.strip().str.lower()\n",
    "df_police['subject_injury'] = df_police['subject_injury'].replace({\n",
    "    'yes': 'Yes',\n",
    "    'no': 'No'\n",
    "})\n",
    "\n",
    "# Count missing values\n",
    "missing_injury = df_police['subject_injury'].isna().mean()\n",
    "print(f\"Proportion of missing subject_injury: {missing_injury:.2%}\")\n",
    "\n",
    "# Cross-tabulate subject_injury and force_type\n",
    "crosstab = pd.crosstab(df_police['subject_injury'], df_police['force_type'], dropna=False)\n",
    "print(crosstab)"
   ]
  },
  {
   "cell_type": "markdown",
   "id": "35b35406-d678-466d-9a20-3237fbe21fa5",
   "metadata": {},
   "source": [
    "3. Below is my code for the third part:"
   ]
  },
  {
   "cell_type": "code",
   "execution_count": 3,
   "id": "9b249158-de46-4958-88c8-51bcb18a1229",
   "metadata": {},
   "outputs": [
    {
     "name": "stderr",
     "output_type": "stream",
     "text": [
      "C:\\Users\\Brian\\AppData\\Local\\Temp\\ipykernel_30092\\3306956294.py:2: DtypeWarning: Columns (1,4,5,7,79,80,81,82,83,84,108,163,164,165,166,168,169,170,171,172,173,174,175,176,177,178,179,180,181,182,183,184,185,186,187,188,189,190,191,192,193,194,195,196,197,198,199,200,201,202,203,204,205,206,207,208,209,210,211,212,213,214,215,216,217,218,219,220,221,222,223,224,225,226,227,228,229,230,231,232,233,234,235,236,237,238,239,240,241,242,243,244,245,246,247,248,249,250,251,252,253,254,255,256,257,258,259,260,261,262,263,264,265,266,267,268,270,271,272,273,275,276,277,278,279,280,281,282,283,284,285,286,287,288,289,290,291,292,293,294,295,296,297,301,302,303,306,307,308,309,310,311,312,313,314,315,316,317,318,319,320,321,322,323,324,325,326,327,328,329,330,331,332,333,334,335,336,337,338,339,340,341,342,343,344,345,346,347,348,349,350,351,352,353,354,355,356,357,358,359,360,361,362,363,364,365,366,367,368,369,370,371,372,373,374,375,376,377,378,379,380,381,382,383,384,385,386,387,388,389,390,391,392,393,394,395,396,397,398,399,400,401,402,403,404,405,406,407,408,409,410,411,412,413,414,415,416,417,418,419,420,421,422,423,424,425,426,427,428,429,430,431,432,433,434,435,436,437,438,439,440,441,442,443,444,445,446,447,448,449,450,451,452,453,454,455,456,457,458,459,460,461,462,463,464,465,466,467,468,469,470,471,472,473,474,475,476,477,478,479,480,481,482,483,484,485,486,487,488,489,490,491,492,493,494,495,496,497,498,499,500,502,503,504,505,506,507,508,509,510,511,512,513,514,515,516,517,518,519,520,521,522,523,524,525,526,527,528,529,530,531,532,533,534,535,536,537,538,539,540,541,542,543,544,545,706) have mixed types. Specify dtype option on import or set low_memory=False.\n",
      "  df_pretrial = pd.read_csv(r\"C:\\Users\\Brian\\Downloads\\October 2017 Cohort_Virginia Pretrial Data Project_Deidentified FINAL Update_10272021.csv\")\n"
     ]
    },
    {
     "name": "stdout",
     "output_type": "stream",
     "text": [
      "WhetherDefendantWasReleasedPretrial\n",
      "Released        19154\n",
      "Not Released     3801\n",
      "Unclear            31\n",
      "Name: count, dtype: int64\n"
     ]
    }
   ],
   "source": [
    "#Read in pretrial data\n",
    "df_pretrial = pd.read_csv(r\"C:\\Users\\Brian\\Downloads\\October 2017 Cohort_Virginia Pretrial Data Project_Deidentified FINAL Update_10272021.csv\")\n",
    "\n",
    "# Replace pretrial values (0, 1, and 9) with those listed in the guide (Not Released, Released, Unclear respectively)\n",
    "df_pretrial['WhetherDefendantWasReleasedPretrial'] = df_pretrial['WhetherDefendantWasReleasedPretrial'].replace({\n",
    "    0: \"Not Released\",\n",
    "    1: \"Released\",\n",
    "    9: \"Unclear\"\n",
    "})\n",
    "\n",
    "# Replace missing values with np.nan\n",
    "df_pretrial['WhetherDefendantWasReleasedPretrial'] = df_pretrial['WhetherDefendantWasReleasedPretrial'].replace('', pd.NA)\n",
    "\n",
    "print(df_pretrial['WhetherDefendantWasReleasedPretrial'].value_counts(dropna=False))"
   ]
  },
  {
   "cell_type": "markdown",
   "id": "67f37dc3-1ff5-4ae3-91b3-78b3bf8c9408",
   "metadata": {},
   "source": [
    "4. Below is my code for part 4:"
   ]
  },
  {
   "cell_type": "code",
   "execution_count": 4,
   "id": "bdb16647-59d2-4c44-8105-8ffa1da4f8ba",
   "metadata": {},
   "outputs": [
    {
     "name": "stdout",
     "output_type": "stream",
     "text": [
      "ImposedSentenceAllChargeInContactEvent\n",
      "NaN           9053\n",
      "0.000000      4953\n",
      "12.000000     1404\n",
      "0.985626      1051\n",
      "6.000000       809\n",
      "              ... \n",
      "30.328542        1\n",
      "37.971253        1\n",
      "50.464066        1\n",
      "286.000000       1\n",
      "175.000000       1\n",
      "Name: count, Length: 484, dtype: int64\n"
     ]
    }
   ],
   "source": [
    "#Check missingness pattern\n",
    "missing_sentences = df_pretrial['ImposedSentenceAllChargeInContactEvent'].isna()\n",
    "related_variable = df_pretrial.loc[missing_sentences, 'SentenceTypeAllChargesAtConvictionInContactEvent']\n",
    "\n",
    "# Fill missing values where appropriate\n",
    "df_pretrial['ImposedSentenceAllChargeInContactEvent'] = df_pretrial.apply(\n",
    "    lambda row: 'No Sentence' if pd.isna(row['ImposedSentenceAllChargeInContactEvent']) and row['SentenceTypeAllChargesAtConvictionInContactEvent'] in ['Acquitted', 'Dismissed']\n",
    "    else row['ImposedSentenceAllChargeInContactEvent'],\n",
    "    axis=1\n",
    ")\n",
    "\n",
    "# Convert numeric sentences to a float\n",
    "df_pretrial['ImposedSentenceAllChargeInContactEvent'] = pd.to_numeric(df_pretrial['ImposedSentenceAllChargeInContactEvent'], errors='coerce')\n",
    "\n",
    "print(df_pretrial['ImposedSentenceAllChargeInContactEvent'].value_counts(dropna=False))\n"
   ]
  },
  {
   "cell_type": "markdown",
   "id": "5a60a44e",
   "metadata": {},
   "source": [
    "**Q2.** Go to https://sharkattackfile.net/ and download their dataset on shark attacks.\n",
    "\n",
    "1. Open the shark attack file using Pandas. It is probably not a csv file, so `read_csv` won't work.\n",
    "2. Drop any columns that do not contain data.\n",
    "3. Clean the year variable. Describe the range of values you see. Filter the rows to focus on attacks since 1940. Are attacks increasing, decreasing, or remaining constant over time?\n",
    "4. Clean the Age variable and make a histogram of the ages of the victims.\n",
    "5. What proportion of victims are male?\n",
    "6. Clean the `Type` variable so it only takes three values: Provoked and Unprovoked and Unknown. What proportion of attacks are unprovoked?\n",
    "7. Clean the `Fatal Y/N` variable so it only takes three values: Y, N, and Unknown.\n",
    "8. Are sharks more likely to launch unprovoked attacks on men or women? Is the attack more or less likely to be fatal when the attack is provoked or unprovoked? Is it more or less likely to be fatal when the victim is male or female? How do you feel about sharks?\n",
    "9. What proportion of attacks appear to be by white sharks? (Hint: `str.split()` makes a vector of text values into a list of lists, split by spaces.)"
   ]
  },
  {
   "cell_type": "markdown",
   "id": "2bc0a984-d984-432f-9a9f-b94e9945a4ac",
   "metadata": {},
   "source": [
    "**1.**"
   ]
  },
  {
   "cell_type": "code",
   "execution_count": 5,
   "id": "a6a01c4f-d55e-44b2-a76b-fa11944cc29c",
   "metadata": {},
   "outputs": [
    {
     "name": "stdout",
     "output_type": "stream",
     "text": [
      "Requirement already satisfied: xlrd in c:\\users\\brian\\appdata\\local\\packages\\pythonsoftwarefoundation.python.3.11_qbz5n2kfra8p0\\localcache\\local-packages\\python311\\site-packages (2.0.1)\n",
      "Note: you may need to restart the kernel to use updated packages.\n"
     ]
    },
    {
     "name": "stderr",
     "output_type": "stream",
     "text": [
      "\n",
      "[notice] A new release of pip is available: 24.0 -> 25.0\n",
      "[notice] To update, run: C:\\Users\\Brian\\AppData\\Local\\Microsoft\\WindowsApps\\PythonSoftwareFoundation.Python.3.11_qbz5n2kfra8p0\\python.exe -m pip install --upgrade pip\n"
     ]
    },
    {
     "name": "stdout",
     "output_type": "stream",
     "text": [
      "                  Date    Year        Type        Country  \\\n",
      "0  2025-01-11 00:00:00  2025.0    Provoked            USA   \n",
      "1  2025-01-02 00:00:00  2025.0  Unprovoked  New Caledonia   \n",
      "2  2025-01-02 00:00:00  2025.0  Unprovoked      Australia   \n",
      "3  2024-12-29 00:00:00  2024.0  Unprovoked          Egypt   \n",
      "4  2024-12-29 00:00:00  2024.0  Unprovoked          Egypt   \n",
      "\n",
      "                 State                                 Location      Activity  \\\n",
      "0               Hawaii            Off Haleiwa Boat Harbour Oahu        Diving   \n",
      "1         Grande Terre              Islet of Kendek near Koumac  Spearfishing   \n",
      "2      South Australia  Granites Beach near Westall Streaky Bay       Surfing   \n",
      "3  North of Marsa Alam                                  Red Sea  SCUBA Diving   \n",
      "4  North of Marsa Alam                                  Red Sea  SCUBA Diving   \n",
      "\n",
      "                                     Name Sex Age  ...  \\\n",
      "0  Male not stated was a dive tour worker   M  23  ...   \n",
      "1                        Robert Cuewapuru   M  40  ...   \n",
      "2                           Lance Appleby   M  28  ...   \n",
      "3                         Peppino Fappani   M  69  ...   \n",
      "4                       Gianluca Di Gioia   M  48  ...   \n",
      "\n",
      "                                 Species   \\\n",
      "0                              Not stated   \n",
      "1          Reportedly Tiger or Bull shark   \n",
      "2  Great White Shart estimated 4.8m 16 ft   \n",
      "3                Reportedly a Tiger Shark   \n",
      "4                Reportedly a Tiger Shark   \n",
      "\n",
      "                                              Source  pdf href formula href  \\\n",
      "0                  Kevin McMurray Trackingsharks.com  NaN          NaN  NaN   \n",
      "1                      Johannes Marchand Todd Smith   NaN          NaN  NaN   \n",
      "2  Glen Folkard: Simon De Marchi News.com.au: The...  NaN          NaN  NaN   \n",
      "3  Todd Smith : Kevin McMurray Trackingsharks .co...  NaN          NaN  NaN   \n",
      "4  Todd Smith : Kevin McMurray Trackingsharks .co...  NaN          NaN  NaN   \n",
      "\n",
      "  Case Number Case Number.1 original order Unnamed: 21 Unnamed: 22  \n",
      "0         NaN           NaN            NaN         NaN         NaN  \n",
      "1         NaN           NaN            NaN         NaN         NaN  \n",
      "2         NaN           NaN            NaN         NaN         NaN  \n",
      "3         NaN           NaN            NaN         NaN         NaN  \n",
      "4         NaN           NaN            NaN         NaN         NaN  \n",
      "\n",
      "[5 rows x 23 columns]\n"
     ]
    }
   ],
   "source": [
    "%pip install xlrd\n",
    "import xlrd\n",
    "import matplotlib.pyplot as plt\n",
    "\n",
    "# Read in dataset \n",
    "df = pd.read_excel(r\"C:\\Users\\Brian\\wrangling\\data\\GSAF5.xls\", engine=\"xlrd\")\n",
    "\n",
    "# Display the first few rows\n",
    "print(df.head())\n"
   ]
  },
  {
   "cell_type": "markdown",
   "id": "f2b4b22d-11d8-40dd-8f04-9131cdab1831",
   "metadata": {},
   "source": [
    "**2.**"
   ]
  },
  {
   "cell_type": "code",
   "execution_count": 6,
   "id": "79c28f71-7833-40fe-bb9b-762320ff62f7",
   "metadata": {},
   "outputs": [
    {
     "name": "stdout",
     "output_type": "stream",
     "text": [
      "Index(['Date', 'Year', 'Type', 'Country', 'State', 'Location', 'Activity',\n",
      "       'Name', 'Sex', 'Age', 'Injury', 'Fatal Y/N', 'Time', 'Species ',\n",
      "       'Source', 'pdf', 'href formula', 'href', 'Case Number', 'Case Number.1',\n",
      "       'original order', 'Unnamed: 21', 'Unnamed: 22'],\n",
      "      dtype='object')\n"
     ]
    }
   ],
   "source": [
    "# Drop empty columns\n",
    "df = df.dropna(axis=1, how=\"all\")\n",
    "\n",
    "# Show remaining columns\n",
    "print(df.columns)"
   ]
  },
  {
   "cell_type": "markdown",
   "id": "20ffc8d0-54f2-4bd6-985c-c104340e2769",
   "metadata": {},
   "source": [
    "**3.**"
   ]
  },
  {
   "cell_type": "code",
   "execution_count": 7,
   "id": "97371704-2e4c-4d57-a028-0ae2a6e477ff",
   "metadata": {},
   "outputs": [
    {
     "name": "stdout",
     "output_type": "stream",
     "text": [
      "Year range: 0.0 - 2026.0\n"
     ]
    },
    {
     "data": {
      "image/png": "[encoded data removed]",
      "text/plain": [
       "<Figure size 1000x500 with 1 Axes>"
      ]
     },
     "metadata": {},
     "output_type": "display_data"
    }
   ],
   "source": [
    "# Convert Year column to numeric, dropping non numeric values\n",
    "df[\"Year\"] = pd.to_numeric(df[\"Year\"], errors=\"coerce\")\n",
    "\n",
    "# Check the range of values\n",
    "print(f\"Year range: {df['Year'].min()} - {df['Year'].max()}\")\n",
    "\n",
    "#Filter for years 1940 and later\n",
    "df_recent = df[df[\"Year\"] >= 1940]\n",
    "\n",
    "# plot the number of shark attacks over time (since 1940)\n",
    "df_recent.groupby(\"Year\").size().plot(kind=\"line\", figsize=(10, 5), title=\"Shark Attacks Since 1940\")\n",
    "plt.ylabel(\"Number of Attacks\")\n",
    "plt.show()\n"
   ]
  },
  {
   "cell_type": "markdown",
   "id": "b12f30c3-a965-418c-a38b-25ec3b934c0c",
   "metadata": {},
   "source": [
    "The range of values above tells me that I should have also looked for zeroes in the dataset. I'm assuming these mean that the year was simply not marked and they just decided to put down a number."
   ]
  },
  {
   "cell_type": "markdown",
   "id": "40e8633f-835a-49e2-b2da-1eeafe6f4db0",
   "metadata": {},
   "source": [
    "**4.**"
   ]
  },
  {
   "cell_type": "code",
   "execution_count": 8,
   "id": "f1bb7d89-6301-43ad-94e9-88f3e31f789c",
   "metadata": {},
   "outputs": [
    {
     "data": {
      "image/png": "[encoded data removed]",
      "text/plain": [
       "<Figure size 640x480 with 1 Axes>"
      ]
     },
     "metadata": {},
     "output_type": "display_data"
    }
   ],
   "source": [
    "# Convert age to numeric, dropping non numeric values\n",
    "df[\"Age\"] = pd.to_numeric(df[\"Age\"], errors=\"coerce\")\n",
    "\n",
    "# plot histogram of ages\n",
    "df[\"Age\"].dropna().plot(kind=\"hist\", bins=20, edgecolor=\"black\", title=\"Age Distribution of Shark Attack Victims\")\n",
    "plt.xlabel(\"Age\")\n",
    "plt.show()\n"
   ]
  },
  {
   "cell_type": "markdown",
   "id": "25098989-fea1-4ba3-8980-7618f4dad4f8",
   "metadata": {},
   "source": [
    "**5.**"
   ]
  },
  {
   "cell_type": "code",
   "execution_count": 9,
   "id": "1565df3c-c437-44da-afe7-fd92fe6b3b75",
   "metadata": {},
   "outputs": [
    {
     "name": "stdout",
     "output_type": "stream",
     "text": [
      "Proportion of male victims: 87.57%\n"
     ]
    }
   ],
   "source": [
    "# Normalizatoin\n",
    "df[\"Sex\"] = df[\"Sex\"].str.strip().str.upper()  #Ensures consistency\n",
    "\n",
    "# Calculate male proportion\n",
    "male_proportion = df[\"Sex\"].value_counts(normalize=True).get(\"M\", 0)\n",
    "print(f\"Proportion of male victims: {male_proportion:.2%}\")\n"
   ]
  },
  {
   "cell_type": "markdown",
   "id": "5bc42de5-a593-425d-8fd9-de9aae930805",
   "metadata": {},
   "source": [
    "**6.**"
   ]
  },
  {
   "cell_type": "code",
   "execution_count": 10,
   "id": "5c102320-6907-4f0d-b45a-e889095a7773",
   "metadata": {},
   "outputs": [
    {
     "name": "stdout",
     "output_type": "stream",
     "text": [
      "Type\n",
      "unprovoked             5151\n",
      "provoked                639\n",
      "invalid                 552\n",
      "watercraft              355\n",
      "sea disaster            242\n",
      "questionable             22\n",
      "boat                      7\n",
      "unconfirmed               1\n",
      "?                         1\n",
      "unverified                1\n",
      "under investigation       1\n",
      "Name: count, dtype: int64\n",
      "['provoked' 'unprovoked' 'unknown']\n",
      "Proportion of unprovoked attacks: 73.69%\n"
     ]
    }
   ],
   "source": [
    "# Normalize (make lower case)\n",
    "df[\"Type\"] = df[\"Type\"].str.strip().str.lower()\n",
    "print(df[\"Type\"].value_counts())\n",
    "\n",
    "# Handle null values before mapping\n",
    "df[\"Type\"] = df[\"Type\"].fillna(\"unknown\")\n",
    "\n",
    "# Map values (had to put unprovoked first because I was running into isssues where it would delete any unprovoked row)\n",
    "df[\"Type\"] = df[\"Type\"].apply(lambda x: \"unprovoked\" if \"unprovoked\" in str(x) else \n",
    "                                        \"provoked\" if \"provoked\" in str(x) else                                         \n",
    "                                        \"unknown\")\n",
    "\n",
    "# print unique values for debug reasons\n",
    "print(df[\"Type\"].unique())\n",
    "\n",
    "# Proportion of unprovoked attacks\n",
    "unprovoked_proportion = (df[\"Type\"] == \"unprovoked\").mean()\n",
    "print(f\"Proportion of unprovoked attacks: {unprovoked_proportion:.2%}\")\n",
    "\n"
   ]
  },
  {
   "cell_type": "markdown",
   "id": "41d72174-295a-449b-a394-b6fc73ade8e1",
   "metadata": {},
   "source": [
    "**7.**"
   ]
  },
  {
   "cell_type": "code",
   "execution_count": 11,
   "id": "b1171ace-0e36-4870-b643-73614ccfb741",
   "metadata": {},
   "outputs": [
    {
     "name": "stdout",
     "output_type": "stream",
     "text": [
      "Fatal Y/N\n",
      "n          4879\n",
      "y          1469\n",
      "unknown      71\n",
      "f             4\n",
      "m             3\n",
      "nq            1\n",
      "y x 2         1\n",
      "Name: count, dtype: int64\n",
      "['N' 'Y' 'Unknown']\n"
     ]
    }
   ],
   "source": [
    "# Normalize (make lower case)\n",
    "df[\"Fatal Y/N\"] = df[\"Fatal Y/N\"].str.strip().str.lower()\n",
    "print(df[\"Fatal Y/N\"].value_counts())\n",
    "\n",
    "# Handle null values before mapping\n",
    "df[\"Fatal Y/N\"] = df[\"Fatal Y/N\"].fillna(\"Unknown\")\n",
    "\n",
    "# Map values (had to put unprovoked first because I was running into isssues where it would delete any unprovoked row)\n",
    "df[\"Fatal Y/N\"] = df[\"Fatal Y/N\"].apply(lambda x: \"Y\" if \"y\" in str(x) else \n",
    "                                        \"N\" if \"n\" in str(x) else                                         \n",
    "                                        \"Unknown\")\n",
    "\n",
    "# print unique values for debug reasons\n",
    "print(df[\"Fatal Y/N\"].unique())"
   ]
  },
  {
   "cell_type": "markdown",
   "id": "38ef4e88-2e8f-4191-8a41-644c780ede77",
   "metadata": {},
   "source": [
    "**8.**"
   ]
  },
  {
   "cell_type": "code",
   "execution_count": 12,
   "id": "946d9742-6d84-43ac-8d52-999127395b03",
   "metadata": {},
   "outputs": [
    {
     "name": "stdout",
     "output_type": "stream",
     "text": [
      "Unprovoked attack rates by gender:\n",
      " Type     False    True \n",
      "Sex                    \n",
      ".      1.00000  0.00000\n",
      "F      0.15404  0.84596\n",
      "LLI    0.00000  1.00000\n",
      "M      0.23192  0.76808\n",
      "M X 2  1.00000  0.00000\n",
      "N      1.00000  0.00000\n",
      "Fatality rates by attack type:\n",
      " Fatal Y/N          N   Unknown         Y\n",
      "Type                                    \n",
      "provoked    0.965571  0.001565  0.032864\n",
      "unknown     0.833333  0.002500  0.164167\n",
      "unprovoked  0.756358  0.000582  0.243060\n",
      "Fatality rates by gender:\n",
      " Fatal Y/N         N   Unknown         Y\n",
      "Sex                                    \n",
      ".          0.000000  0.000000  1.000000\n",
      "F          0.848485  0.000000  0.151515\n",
      "LLI        1.000000  0.000000  0.000000\n",
      "M          0.777877  0.001247  0.220876\n",
      "M X 2      0.000000  0.000000  1.000000\n",
      "N          0.500000  0.000000  0.500000\n"
     ]
    }
   ],
   "source": [
    "#unprovoked attack rates by gender\n",
    "count_unprovoked = pd.crosstab(df['Sex'], df['Type']==\"unprovoked\", normalize='index')\n",
    "print(\"Unprovoked attack rates by gender:\\n\", count_unprovoked)\n",
    "\n",
    "# Fatality rates by attack type\n",
    "fatal_by_type = pd.crosstab(df[\"Type\"], df[\"Fatal Y/N\"], normalize=\"index\")\n",
    "print(\"Fatality rates by attack type:\\n\", fatal_by_type)\n",
    "\n",
    "#Fatality rates by gender\n",
    "fatal_by_gender = pd.crosstab(df[\"Sex\"], df[\"Fatal Y/N\"], normalize=\"index\")\n",
    "print(\"Fatality rates by gender:\\n\", fatal_by_gender)"
   ]
  },
  {
   "cell_type": "markdown",
   "id": "8a44fbea-2faf-46c6-a3da-912530ab1280",
   "metadata": {},
   "source": [
    "It appears that attacked women (0.84596) are more likely to be attacked by an unprovoked shark than men (0.76808). \n",
    "For fatality rates, it appears that unprovoked attacks are more fatal than provoked or unprovoked.\n",
    "Lastly, men (0.220876) are more likely to be involved in fatalities with sharks than women (0.151515).\n",
    "Overall, I'm not the biggest fan of sharks, but if a stray animal entered our homes, we would probably want to get rid of it even if it isn't provoking us."
   ]
  },
  {
   "cell_type": "markdown",
   "id": "2ee323d4-e28a-4a86-a53a-50ebc5c3c3b4",
   "metadata": {},
   "source": [
    "**9.**"
   ]
  },
  {
   "cell_type": "code",
   "execution_count": 13,
   "id": "015bfb98-b07f-4c7c-af53-d14a729a614c",
   "metadata": {},
   "outputs": [
    {
     "name": "stdout",
     "output_type": "stream",
     "text": [
      "Proportion of attacks by white sharks: 10.01%\n"
     ]
    }
   ],
   "source": [
    "# Normalize species column (lowercase!)\n",
    "df[\"Species \"] = df[\"Species \"].str.lower()\n",
    "\n",
    "# Count white shark mentions\n",
    "white_shark_count = df[\"Species \"].str.contains(\"white shark\", na=False).sum()\n",
    "white_shark_proportion = white_shark_count / len(df)\n",
    "\n",
    "print(f\"Proportion of attacks by white sharks: {white_shark_proportion:.2%}\")"
   ]
  },
  {
   "cell_type": "markdown",
   "id": "5735a4d4-8be8-433a-a351-70eb8002e632",
   "metadata": {
    "id": "5735a4d4-8be8-433a-a351-70eb8002e632"
   },
   "source": [
    "**Q3.** Open the \"tidy_data.pdf\" document in the repo, which is a paper called Tidy Data by Hadley Wickham.\n",
    "\n",
    "  1. Read the abstract. What is this paper about?\n",
    "  2. Read the introduction. What is the \"tidy data standard\" intended to accomplish?\n",
    "  3. Read the intro to section 2. What does this sentence mean: \"Like families, tidy datasets are all alike but every messy dataset is messy in its own way.\" What does this sentence mean: \"For a given dataset, it’s usually easy to figure out what are observations and what are variables, but it is surprisingly difficult to precisely define variables and observations in general.\"\n",
    "  4. Read Section 2.2. How does Wickham define values, variables, and observations?\n",
    "  5. How is \"Tidy Data\" defined in section 2.3?\n",
    "  6. Read the intro to Section 3 and Section 3.1. What are the 5 most common problems with messy datasets? Why are the data in Table 4 messy? What is \"melting\" a dataset?\n",
    "  7. Why, specifically, is table 11 messy but table 12 tidy and \"molten\"?\n",
    "  8. Read Section 6. What is the \"chicken-and-egg\" problem with focusing on tidy data? What does Wickham hope happens in the future with further work on the subject of data wrangling?"
   ]
  },
  {
   "cell_type": "markdown",
   "id": "1ac7da78-e709-4403-b971-de4b6e910fd7",
   "metadata": {},
   "source": [
    "1. The paper discusses data tidying, which is a crucial but often overlooked aspect of data cleaning. Tidy datasets have a specific structure - each variable is a column, each observation is a row, and each type of observational unit is a table. The paper introduces a standardized approach to data tidying, making analysis easier by ensuring consistency in data structures.\n",
    "2. The tidy data standard aims to simplify data cleaning by providing a structured way to organize datasets. It helps with initial exploration, analysis, and the development of tools that work seamlessly together. Instead of spending time on formatting, analysts can focus on actual problem solving.\n",
    "3. The first analogy suggests that tidy datasets follow a consistent structure, making them easier to work with, while messy datasets vary widely in structure, requiring different cleaning approaches. The second sentence means that while it’s intuitive to identify observations and variables in a specific dataset, providing a universal definition that applies to all datasets is challenging because different datasets are structured differently.\n",
    "4. ***Values:*** individual data points, either numbers (when quantitative) or strings (for qualitative). ***Variables:*** A collection of values that measure the same characteristic across units (think height, temperature, etc.). ***Observations:*** A collection of values recorded for the same unit across different attributes.\n",
    "5. Tidy data is defined as: Each variable forming a column, each observation forming a row, and each type of observation unit forming a table. Wickham goes onto explain how this is essentially Codd's 3rd normal form (which is used for relational databases) but for statistical analysis.\n",
    "6. The five most common problems with messy datasets are: column headers are values and not variable names, mulitple variables are stored in one column, variables are stored in bothe rows and columns, multiple types of observational units are stored in the same table, and a single observational unit is stored in multiple tables. The data in table 4 are messy because column headers are values, not variable names, making it hard to analyze. Melting a dataset refers to reshaping it so that variables become columns, and observations become rows, following the tidy data format.\n",
    "7. Table 11 is messy because it has one column per day, making it incredibly inefficient and hard to read due to width. Table 12 is way more tidy and considered \"molten\" because it transforms the structure of Table 11 by melting it into a more tidy format, with each row representing a single day's observation instead of having separate columns for each day.\n",
    "8. Tidy tools are linked to tidy data and tidy data is only as useful as the tools that operate with it, but data is rarely tidy to begin with, making it hard to prepare data before analysis for most users. Wickham hopes that, in the future, more research and development will lead to better tools that make data tidying more efficient and effective"
   ]
  },
  {
   "cell_type": "markdown",
   "id": "649494cd-cfd6-4f80-992a-9994fc19e1d5",
   "metadata": {
    "id": "649494cd-cfd6-4f80-992a-9994fc19e1d5"
   },
   "source": [
    "**Q4.** Many important datasets contain a race variable, typically limited to a handful of values often including Black, White, Asian, Latino, and Indigenous. This question looks at data gathering efforts on this variable by the U.S. Federal government.\n",
    "\n",
    "1. How did the most recent US Census gather data on race?\n",
    "2. Why do we gather these data? What role do these kinds of data play in politics and society? Why does data quality matter?\n",
    "3. Please provide a constructive criticism of how the Census was conducted: What was done well? What do you think was missing? How should future large scale surveys be adjusted to best reflect the diversity of the population? Could some of the Census' good practices be adopted more widely to gather richer and more useful data?\n",
    "4. How did the Census gather data on sex and gender? Please provide a similar constructive criticism of their practices.\n",
    "5. When it comes to cleaning data, what concerns do you have about protected characteristics like sex, gender, sexual identity, or race? What challenges can you imagine arising when there are missing values? What good or bad practices might people adopt, and why?\n",
    "6. Suppose someone invented an algorithm to impute values for protected characteristics like race, gender, sex, or sexuality. What kinds of concerns would you have?"
   ]
  }
 ],
 "metadata": {
  "colab": {
   "provenance": []
  },
  "kernelspec": {
   "display_name": "Python 3 (ipykernel)",
   "language": "python",
   "name": "python3"
  },
  "language_info": {
   "codemirror_mode": {
    "name": "ipython",
    "version": 3
   },
   "file_extension": ".py",
   "mimetype": "text/x-python",
   "name": "python",
   "nbconvert_exporter": "python",
   "pygments_lexer": "ipython3",
   "version": "3.11.9"
  }
 },
 "nbformat": 4,
 "nbformat_minor": 5
}
